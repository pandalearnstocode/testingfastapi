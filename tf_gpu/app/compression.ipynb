{
 "metadata": {
  "language_info": {
   "codemirror_mode": {
    "name": "ipython",
    "version": 3
   },
   "file_extension": ".py",
   "mimetype": "text/x-python",
   "name": "python",
   "nbconvert_exporter": "python",
   "pygments_lexer": "ipython3",
   "version": "3.9.4"
  },
  "orig_nbformat": 2,
  "kernelspec": {
   "name": "python394jvsc74a57bd0a8205807581b12591e18af165f0d7a8c3634b7d17e943ca382aa2aba21f88d32",
   "display_name": "Python 3.9.4 64-bit ('fastapi': conda)"
  },
  "metadata": {
   "interpreter": {
    "hash": "a8205807581b12591e18af165f0d7a8c3634b7d17e943ca382aa2aba21f88d32"
   }
  }
 },
 "nbformat": 4,
 "nbformat_minor": 2,
 "cells": [
  {
   "cell_type": "code",
   "execution_count": 1,
   "metadata": {},
   "outputs": [],
   "source": [
    "import glob\n",
    "import pyarrow.csv as pv\n",
    "import pandas as pd\n",
    "import pathlib\n",
    "import joblib\n",
    "import os\n",
    "from pydantic import BaseModel\n",
    "from typing import *\n",
    "from datetime import date\n",
    "\n",
    "PYMMM_VERSION = '0.0.1'\n",
    "\n",
    "\n",
    "class RawRequest(BaseModel):\n",
    "    country: str\n",
    "    use_files: List[str]\n",
    "    file_types: str\n",
    "    hierarchy_columns: List[str]\n",
    "    shared_column: str\n",
    "    brand_column: str\n",
    "    date_column: str\n",
    "    revenue_column: str\n",
    "    vehicle_column: str\n",
    "    sub_vehicle_column: str\n",
    "    spend_column: str\n",
    "    raw_power_columns: List[str]\n",
    "    n_simulated_environments: int\n",
    "    n_train: int\n",
    "    min_contiguous: int\n",
    "    dbg: bool\n",
    "    visualize: int\n",
    "    COVID_CUTOFF: date\n",
    "    dynamics_layers: List[Dict[str,Union[str, List[str]]]]\n",
    "\n",
    "class UpdatedRequest(BaseModel):\n",
    "    raw_req: RawRequest\n",
    "    filtered_data_info: Dict[str,Dict[str,str]]\n",
    "    code_version: str\n",
    "\n",
    "def file_by_country(country, csv_files):\n",
    "    filtered_files = [csv_file for csv_file in csv_files if ((csv_file.find(country) > 0) and (csv_file.find('raw') > 0))]\n",
    "    return filtered_files\n",
    "\n",
    "def get_filtered_data_hashed_dict(data_info_hashed, use_data):\n",
    "    dict_collector = {}\n",
    "    for k, v in data_info_hashed.items():\n",
    "        for k1,v1 in v.items():\n",
    "            if k1 in use_data:\n",
    "                dict_collector[k] = {k1:v1}\n",
    "    return dict_collector\n",
    "\n",
    "def compress_files(country, file_type, use_data):\n",
    "    name_collector = []\n",
    "    hash_collector = []\n",
    "    compressed_files = []\n",
    "    csv_files = glob.glob(f'**/*.{file_type}', recursive = True)\n",
    "    csv_files = file_by_country(country = country , csv_files = csv_files)\n",
    "    for csv_file in csv_files:\n",
    "        df = (pv.read_csv(csv_file)).to_pandas()\n",
    "        file_name = pathlib.Path(csv_file).stem\n",
    "        file_hash = joblib.hash(df)\n",
    "        compressed_file_name = csv_file.replace(file_name,file_hash + \"_\" + file_name).replace(\".csv\",\".parquet.gzip\")\n",
    "        name_collector.append(file_name)\n",
    "        hash_collector.append(file_hash)\n",
    "        compressed_files.append(compressed_file_name)\n",
    "        df.to_parquet(compressed_file_name, compression='gzip', index = None)\n",
    "    data_info_hashed = {k:{m:n} for k,m,n in zip(hash_collector,name_collector,compressed_files)}\n",
    "    filtered_data_info_hashed = get_filtered_data_hashed_dict(data_info_hashed, use_data)\n",
    "    return data_info_hashed, filtered_data_info_hashed"
   ]
  },
  {
   "cell_type": "code",
   "execution_count": 2,
   "metadata": {},
   "outputs": [],
   "source": [
    "raw_req = {\n",
    "    \"country\": \"Brazil\",\n",
    "    \"use_files\":['holidays_data','macroeconomic_data','media_data','pos_data','power_data'],\n",
    "    \"file_types\":\"csv\",\n",
    "    \"hierarchy_columns\": [\n",
    "      \"ZONE\",\n",
    "      \"SHARED\",\n",
    "      \"BRAND\",\n",
    "      \"PRODUCT\"\n",
    "    ],\n",
    "    \"shared_column\": \"SHARED\",\n",
    "    \"brand_column\": \"BRAND\",\n",
    "    \"date_column\": \"TIMEDESC\",\n",
    "    \"revenue_column\": \"SALES IN DOLLAR VALUE\",\n",
    "    \"vehicle_column\": \"VEHICLE\",\n",
    "    \"sub_vehicle_column\": \"SUBTYPE\",\n",
    "    \"spend_column\": \"SPEND\",\n",
    "    \"raw_power_columns\": [\n",
    "      \"time_looker_dimdate_ref\",\n",
    "      \"display_brand_name\",\n",
    "      \"measure_name_displayed\",\n",
    "      \"score\"\n",
    "    ],\n",
    "    \"n_simulated_environments\":2,\n",
    "    \"n_train\":2,\n",
    "    \"min_contiguous\": 6,\n",
    "    \"dbg\": True,\n",
    "    \"visualize\": 0,\n",
    "    \"COVID_CUTOFF\": \"2020-01-01\",\n",
    "    \"dynamics_layers\": [\n",
    "      {\n",
    "        \"name\": \"socialmedia\",\n",
    "        \"veh\": \"socialmedia\",\n",
    "        \"curve_style\": \"sigmoid\",\n",
    "        \"mix_cols\": []\n",
    "      },\n",
    "      {\n",
    "        \"name\": \"radio\",\n",
    "        \"veh\": \"radio\",\n",
    "        \"curve_style\": \"sigmoid\",\n",
    "        \"mix_cols\": []\n",
    "      },\n",
    "      {\n",
    "        \"name\": \"opentv\",\n",
    "        \"veh\": \"opentv\",\n",
    "        \"curve_style\": \"sigmoid\",\n",
    "        \"mix_cols\": []\n",
    "      },\n",
    "      {\n",
    "        \"name\": \"ooh\",\n",
    "        \"veh\": \"ooh\",\n",
    "        \"curve_style\": \"sigmoid\",\n",
    "        \"mix_cols\": []\n",
    "      }\n",
    "    ]\n",
    "  }"
   ]
  },
  {
   "cell_type": "code",
   "execution_count": 3,
   "metadata": {},
   "outputs": [],
   "source": [
    "raw_request = RawRequest(**raw_req)\n",
    "country = raw_req['country']\n",
    "use_files = raw_req['use_files']\n",
    "file_types = raw_req['file_types']\n",
    "data_info_hashed, filtered_data_info_hashed = compress_files(country,file_types, use_files)\n",
    "hashed_req = {\"raw_req\":raw_request, \"filtered_data_info\": filtered_data_info_hashed,\"code_version\": PYMMM_VERSION}\n",
    "updated_request = UpdatedRequest(**hashed_req)\n",
    "model_hash = joblib.hash(updated_request.dict())\n",
    "request_file_name = model_hash + \"_request.json\"\n",
    "response_file_name = model_hash + \"_response.json\"\n",
    "model_file_name = model_hash + \"_model.pickle\""
   ]
  },
  {
   "cell_type": "code",
   "execution_count": 4,
   "metadata": {},
   "outputs": [
    {
     "output_type": "execute_result",
     "data": {
      "text/plain": [
       "'f742843747c5aac543ca55eecb79bdfd_request.json'"
      ]
     },
     "metadata": {},
     "execution_count": 4
    }
   ],
   "source": [
    "request_file_name"
   ]
  },
  {
   "cell_type": "code",
   "execution_count": 5,
   "metadata": {},
   "outputs": [
    {
     "output_type": "execute_result",
     "data": {
      "text/plain": [
       "'f742843747c5aac543ca55eecb79bdfd_response.json'"
      ]
     },
     "metadata": {},
     "execution_count": 5
    }
   ],
   "source": [
    "response_file_name"
   ]
  },
  {
   "cell_type": "code",
   "execution_count": 6,
   "metadata": {},
   "outputs": [
    {
     "output_type": "execute_result",
     "data": {
      "text/plain": [
       "'f742843747c5aac543ca55eecb79bdfd_model.pickle'"
      ]
     },
     "metadata": {},
     "execution_count": 6
    }
   ],
   "source": [
    "model_file_name"
   ]
  },
  {
   "cell_type": "code",
   "execution_count": null,
   "metadata": {},
   "outputs": [],
   "source": []
  },
  {
   "cell_type": "code",
   "execution_count": null,
   "metadata": {},
   "outputs": [],
   "source": []
  }
 ]
}