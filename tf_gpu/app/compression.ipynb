{
 "metadata": {
  "language_info": {
   "codemirror_mode": {
    "name": "ipython",
    "version": 3
   },
   "file_extension": ".py",
   "mimetype": "text/x-python",
   "name": "python",
   "nbconvert_exporter": "python",
   "pygments_lexer": "ipython3",
   "version": "3.8.5"
  },
  "orig_nbformat": 2,
  "kernelspec": {
   "name": "python385jvsc74a57bd080af2fdd3e0cd3b2b89a729be1a14f68fd9657b80832651a2e58b192c625b442",
   "display_name": "Python 3.8.5 64-bit ('base': conda)"
  }
 },
 "nbformat": 4,
 "nbformat_minor": 2,
 "cells": [
  {
   "cell_type": "code",
   "execution_count": 164,
   "metadata": {},
   "outputs": [],
   "source": [
    "import glob\n",
    "import pandas as pd\n",
    "import pathlib\n",
    "import joblib\n",
    "import os\n",
    "PYMMM_VERSION = '0.0.1'\n",
    "\n",
    "def file_by_country(country, csv_files):\n",
    "    filtered_files = [csv_file for csv_file in csv_files if ((csv_file.find(country) > 0) and (csv_file.find('raw') > 0))]\n",
    "    return filtered_files\n",
    "\n",
    "def get_filtered_data_hashed_dict(data_info_hashed, use_data):\n",
    "    dict_collector = {}\n",
    "    for k, v in data_info_hashed.items():\n",
    "        for k1,v1 in v.items():\n",
    "            if k1 in use_data:\n",
    "                dict_collector[k] = {k1:v1}\n",
    "    return dict_collector\n",
    "\n",
    "def compress_files(country, file_type, use_data):\n",
    "    name_collector = []\n",
    "    hash_collector = []\n",
    "    compressed_files = []\n",
    "    csv_files = glob.glob(f'**/*.{file_type}', recursive = True)\n",
    "    csv_files = file_by_country(country = country , csv_files = csv_files)\n",
    "    for csv_file in csv_files:\n",
    "        df = pd.read_csv(csv_file)\n",
    "        file_name = pathlib.Path(csv_file).stem\n",
    "        file_hash = joblib.hash(df)\n",
    "        compressed_file_name = csv_file.replace(file_name,file_hash + \"_\" + file_name + \".gzip\")\n",
    "        name_collector.append(file_name)\n",
    "        hash_collector.append(file_hash)\n",
    "        compressed_files.append(compressed_file_name)\n",
    "        df.to_csv(compressed_path, index = None)\n",
    "    data_info_hashed = {k:{m:n} for k,m,n in zip(hash_collector,name_collector,compressed_files)}\n",
    "    filtered_data_info_hashed = get_filtered_data_hashed_dict(data_info_hashed, use_data)\n",
    "    return data_info_hashed, filtered_data_info_hashed"
   ]
  },
  {
   "cell_type": "code",
   "execution_count": 165,
   "metadata": {},
   "outputs": [],
   "source": [
    "raw_req = {\n",
    "    \"country\": \"Brazil\",\n",
    "    \"use_files\":['holidays_data','macroeconomic_data','media_data','pos_data','power_data'],\n",
    "    \"file_types\":\"csv\",\n",
    "    \"hierarchy_columns\": [\n",
    "      \"ZONE\",\n",
    "      \"SHARED\",\n",
    "      \"BRAND\",\n",
    "      \"PRODUCT\"\n",
    "    ],\n",
    "    \"shared_column\": \"SHARED\",\n",
    "    \"brand_column\": \"BRAND\",\n",
    "    \"date_column\": \"TIMEDESC\",\n",
    "    \"revenue_column\": \"SALES IN DOLLAR VALUE\",\n",
    "    \"vehicle_column\": \"VEHICLE\",\n",
    "    \"sub_vehicle_column\": \"SUBTYPE\",\n",
    "    \"spend_column\": \"SPEND\",\n",
    "    \"raw_power_columns\": [\n",
    "      \"time_looker_dimdate_ref\",\n",
    "      \"display_brand_name\",\n",
    "      \"measure_name_displayed\",\n",
    "      \"score\"\n",
    "    ],\n",
    "    \"n_simulated_environments\":2,\n",
    "    \"n_train\":2,\n",
    "    \"min_contiguous\": 6,\n",
    "    \"dbg\": True,\n",
    "    \"visualize\": 0,\n",
    "    \"COVID_CUTOFF\": \"2020-01-01\",\n",
    "    \"dynamics_layers\": [\n",
    "      {\n",
    "        \"name\": \"socialmedia\",\n",
    "        \"veh\": \"socialmedia\",\n",
    "        \"curve_style\": \"sigmoid\",\n",
    "        \"mix_cols\": []\n",
    "      },\n",
    "      {\n",
    "        \"name\": \"radio\",\n",
    "        \"veh\": \"radio\",\n",
    "        \"curve_style\": \"sigmoid\",\n",
    "        \"mix_cols\": []\n",
    "      },\n",
    "      {\n",
    "        \"name\": \"opentv\",\n",
    "        \"veh\": \"opentv\",\n",
    "        \"curve_style\": \"sigmoid\",\n",
    "        \"mix_cols\": []\n",
    "      },\n",
    "      {\n",
    "        \"name\": \"ooh\",\n",
    "        \"veh\": \"ooh\",\n",
    "        \"curve_style\": \"sigmoid\",\n",
    "        \"mix_cols\": []\n",
    "      }\n",
    "    ]\n",
    "  }"
   ]
  },
  {
   "cell_type": "code",
   "execution_count": 166,
   "metadata": {},
   "outputs": [],
   "source": [
    "country = raw_req['country']\n",
    "use_files = raw_req['use_files']\n",
    "file_types = raw_req['file_types']"
   ]
  },
  {
   "cell_type": "code",
   "execution_count": 167,
   "metadata": {},
   "outputs": [],
   "source": [
    "data_info_hashed, filtered_data_info_hashed = compress_files(country,file_types, use_files)"
   ]
  },
  {
   "cell_type": "code",
   "execution_count": 170,
   "metadata": {},
   "outputs": [
    {
     "output_type": "execute_result",
     "data": {
      "text/plain": [
       "{'3f67e6e30864ae8cbebe868ddd495122': {'media_data': 'data/Brazil/raw/3f67e6e30864ae8cbebe868ddd495122_media_data.gzip.csv'},\n",
       " '2c504f09daa7e79b2e844175a809af39': {'power_data': 'data/Brazil/raw/2c504f09daa7e79b2e844175a809af39_power_data.gzip.csv'},\n",
       " 'e20cff04942cbe5b1bea079f8b01b4b1': {'holidays_data': 'data/Brazil/raw/e20cff04942cbe5b1bea079f8b01b4b1_holidays_data.gzip.csv'},\n",
       " 'b3bb6e033fb9f003828c23d675b0d054': {'macroeconomic_data': 'data/Brazil/raw/b3bb6e033fb9f003828c23d675b0d054_macroeconomic_data.gzip.csv'},\n",
       " '172c61bf05bdfcea32f8546fd639c40d': {'pos_data': 'data/Brazil/raw/172c61bf05bdfcea32f8546fd639c40d_pos_data.gzip.csv'}}"
      ]
     },
     "metadata": {},
     "execution_count": 170
    }
   ],
   "source": [
    "data_info_hashed"
   ]
  },
  {
   "cell_type": "code",
   "execution_count": 171,
   "metadata": {},
   "outputs": [
    {
     "output_type": "execute_result",
     "data": {
      "text/plain": [
       "{'3f67e6e30864ae8cbebe868ddd495122': {'media_data': 'data/Brazil/raw/3f67e6e30864ae8cbebe868ddd495122_media_data.gzip.csv'},\n",
       " '2c504f09daa7e79b2e844175a809af39': {'power_data': 'data/Brazil/raw/2c504f09daa7e79b2e844175a809af39_power_data.gzip.csv'},\n",
       " 'e20cff04942cbe5b1bea079f8b01b4b1': {'holidays_data': 'data/Brazil/raw/e20cff04942cbe5b1bea079f8b01b4b1_holidays_data.gzip.csv'},\n",
       " 'b3bb6e033fb9f003828c23d675b0d054': {'macroeconomic_data': 'data/Brazil/raw/b3bb6e033fb9f003828c23d675b0d054_macroeconomic_data.gzip.csv'},\n",
       " '172c61bf05bdfcea32f8546fd639c40d': {'pos_data': 'data/Brazil/raw/172c61bf05bdfcea32f8546fd639c40d_pos_data.gzip.csv'}}"
      ]
     },
     "metadata": {},
     "execution_count": 171
    }
   ],
   "source": [
    "filtered_data_info_hashed"
   ]
  },
  {
   "cell_type": "code",
   "execution_count": 168,
   "metadata": {},
   "outputs": [],
   "source": [
    "hashed_req = {\"raw_req\":raw_req, \"filtered_data_info\": filtered_data_info_hashed,\"code_version\": PYMMM_VERSION}"
   ]
  },
  {
   "cell_type": "code",
   "execution_count": 169,
   "metadata": {},
   "outputs": [
    {
     "output_type": "execute_result",
     "data": {
      "text/plain": [
       "{'raw_req': {'country': 'Brazil',\n",
       "  'use_files': ['holidays_data',\n",
       "   'macroeconomic_data',\n",
       "   'media_data',\n",
       "   'pos_data',\n",
       "   'power_data'],\n",
       "  'file_types': 'csv',\n",
       "  'hierarchy_columns': ['ZONE', 'SHARED', 'BRAND', 'PRODUCT'],\n",
       "  'shared_column': 'SHARED',\n",
       "  'brand_column': 'BRAND',\n",
       "  'date_column': 'TIMEDESC',\n",
       "  'revenue_column': 'SALES IN DOLLAR VALUE',\n",
       "  'vehicle_column': 'VEHICLE',\n",
       "  'sub_vehicle_column': 'SUBTYPE',\n",
       "  'spend_column': 'SPEND',\n",
       "  'raw_power_columns': ['time_looker_dimdate_ref',\n",
       "   'display_brand_name',\n",
       "   'measure_name_displayed',\n",
       "   'score'],\n",
       "  'n_simulated_environments': 2,\n",
       "  'n_train': 2,\n",
       "  'min_contiguous': 6,\n",
       "  'dbg': True,\n",
       "  'visualize': 0,\n",
       "  'COVID_CUTOFF': '2020-01-01',\n",
       "  'dynamics_layers': [{'name': 'socialmedia',\n",
       "    'veh': 'socialmedia',\n",
       "    'curve_style': 'sigmoid',\n",
       "    'mix_cols': []},\n",
       "   {'name': 'radio', 'veh': 'radio', 'curve_style': 'sigmoid', 'mix_cols': []},\n",
       "   {'name': 'opentv',\n",
       "    'veh': 'opentv',\n",
       "    'curve_style': 'sigmoid',\n",
       "    'mix_cols': []},\n",
       "   {'name': 'ooh', 'veh': 'ooh', 'curve_style': 'sigmoid', 'mix_cols': []}]},\n",
       " 'filtered_data_info': {'3f67e6e30864ae8cbebe868ddd495122': {'media_data': 'data/Brazil/raw/3f67e6e30864ae8cbebe868ddd495122_media_data.gzip.csv'},\n",
       "  '2c504f09daa7e79b2e844175a809af39': {'power_data': 'data/Brazil/raw/2c504f09daa7e79b2e844175a809af39_power_data.gzip.csv'},\n",
       "  'e20cff04942cbe5b1bea079f8b01b4b1': {'holidays_data': 'data/Brazil/raw/e20cff04942cbe5b1bea079f8b01b4b1_holidays_data.gzip.csv'},\n",
       "  'b3bb6e033fb9f003828c23d675b0d054': {'macroeconomic_data': 'data/Brazil/raw/b3bb6e033fb9f003828c23d675b0d054_macroeconomic_data.gzip.csv'},\n",
       "  '172c61bf05bdfcea32f8546fd639c40d': {'pos_data': 'data/Brazil/raw/172c61bf05bdfcea32f8546fd639c40d_pos_data.gzip.csv'}},\n",
       " 'code_version': '0.0.1'}"
      ]
     },
     "metadata": {},
     "execution_count": 169
    }
   ],
   "source": [
    "hashed_req"
   ]
  },
  {
   "cell_type": "code",
   "execution_count": 172,
   "metadata": {},
   "outputs": [],
   "source": [
    "model_hash = joblib.hash(hashed_req)"
   ]
  },
  {
   "cell_type": "code",
   "execution_count": 174,
   "metadata": {},
   "outputs": [],
   "source": [
    "request_file_name = model_hash + \"_request.json\"\n",
    "response_file_name = model_hash + \"_response.json\"\n",
    "model_file_name = model_hash + \"_model.pickle\""
   ]
  },
  {
   "cell_type": "code",
   "execution_count": null,
   "metadata": {},
   "outputs": [],
   "source": []
  },
  {
   "cell_type": "code",
   "execution_count": null,
   "metadata": {},
   "outputs": [],
   "source": []
  }
 ]
}